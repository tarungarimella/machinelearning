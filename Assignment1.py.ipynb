{
 "cells": [
  {
   "cell_type": "code",
   "execution_count": 56,
   "id": "b631a6a3",
   "metadata": {},
   "outputs": [
    {
     "name": "stdout",
     "output_type": "stream",
     "text": [
      "Enter number of students: 4\n",
      "Enter weight of student 1 in lbs: 150\n",
      "Enter weight of student 2 in lbs: 155\n",
      "Enter weight of student 3 in lbs: 145\n",
      "Enter weight of student 4 in lbs: 148\n",
      "Weights in kilograms:  [68.04, 70.31, 65.77, 67.13]\n"
     ]
    }
   ],
   "source": [
    "def lbs_to_kg(weight_in_lbs):     #defining a function\n",
    "    return (round(weight_in_lbs * 0.453592,2)) #converting weights in lbgs to kg and returning the values\n",
    "n = int(input(\"Enter number of students: \")) #taking input from user\n",
    "weights_in_lbs = [] #creating a list for weights in lbs\n",
    "weights_in_kg = []  #creating a list for weights in kg\n",
    "for i in range(n):\n",
    "    weight = float(input(\"Enter weight of student {} in lbs: \".format(i+1))) #iterating the loop till the number of studendents provided by user\n",
    "    weights_in_lbs.append(weight) #appending weight values in lbs to list \n",
    "for weight in weights_in_pounds:\n",
    "    weight_in_kg = lbs_to_kg(weight) #calling the function lbs_to_kg\n",
    "    weights_in_kg.append(weight_in_kg) #appending the values returned by function into the list weight_in_kg\n",
    "print(\"Weights in kilograms: \",weights_in_kg) "
   ]
  },
  {
   "cell_type": "code",
   "execution_count": 51,
   "id": "ba16136a",
   "metadata": {},
   "outputs": [
    {
     "name": "stdout",
     "output_type": "stream",
     "text": [
      "The area of a circle with radius 10 is 314 meters square.\n"
     ]
    }
   ],
   "source": [
    "radius = 10\n",
    "area = 3.14 * radius ** 2 #caluclating area of the circle\n",
    "print(\"The area of a circle with radius {} is {:.0f} meters square.\".format(radius,area)) #caluclating area by formatting float with no decimal places and printing the value. "
   ]
  },
  {
   "cell_type": "code",
   "execution_count": 52,
   "id": "902ca18e",
   "metadata": {},
   "outputs": [
    {
     "name": "stdout",
     "output_type": "stream",
     "text": [
      "Name\t\tAge\tCountry\tCity\n",
      "Asabeneh\t250\tFinland\tHelsinki\n"
     ]
    }
   ],
   "source": [
    "print(\"Name\\t\\tAge\\tCountry\\tCity\") \n",
    "print(\"Asabeneh\\t250\\tFinland\\tHelsinki\") #\\t create tab space between the words"
   ]
  },
  {
   "cell_type": "code",
   "execution_count": 4,
   "id": "620e4530",
   "metadata": {},
   "outputs": [
    {
     "name": "stdout",
     "output_type": "stream",
     "text": [
      "no of unique words are 10\n"
     ]
    }
   ],
   "source": [
    "msg=\"I am a teacher and I love to inspire and teach people\" \n",
    "listl=(msg.split(\"\")) #split() splits each word in a sentence and stores them in a list\n",
    "print(\"no of unique words are\",len(set(listl))) # list will be converted into a set() because set don't contain duplicate values and printing number of unique words from the given sentence using length function"
   ]
  },
  {
   "cell_type": "code",
   "execution_count": 44,
   "id": "0875491c",
   "metadata": {},
   "outputs": [
    {
     "name": "stdout",
     "output_type": "stream",
     "text": [
      "The area of the circle is: 2827.4333882308138\n",
      "The circumference of the circle is: 188.49555921538757\n",
      "Enter the radius of the circle: 2\n",
      "The area of the circle is: 12.566370614359172\n"
     ]
    }
   ],
   "source": [
    "import math\n",
    "#caluclating area of circle\n",
    "radius = 30\n",
    "_area_of_circle_ = math.pi * (radius ** 2) \n",
    "print(\"The area of the circle is:\", _area_of_circle_)\n",
    "#caluclating circumference of a circle\n",
    "_circum_of_circle_ = 2 * math.pi * radius\n",
    "print(\"The circumference of the circle is:\", _circum_of_circle_)\n",
    "\n",
    "#caluclating area of a circle by taking radius as user input\n",
    "radius = float(input(\"Enter the radius of the circle: \"))\n",
    "_area_of_circle_ = math.pi * (radius ** 2)\n",
    "print(\"The area of the circle is:\",_area_of_circle_)"
   ]
  },
  {
   "cell_type": "code",
   "execution_count": 43,
   "id": "c1cc63f8",
   "metadata": {},
   "outputs": [
    {
     "name": "stdout",
     "output_type": "stream",
     "text": [
      "Number of it_companies are: 7\n",
      "Added twitter company: {'Microsoft', 'IBM', 'Twitter', 'Facebook', 'Apple', 'Amazon', 'Google', 'Oracle'}\n",
      "Added multiple companies: {'Microsoft', 'Facebook', 'Netflix', 'Apple', 'Spotify', 'Twitter', 'IBM', 'Google', 'Uber', 'Amazon', 'Oracle'}\n",
      "After removing Netflix compnay: {'Microsoft', 'Facebook', 'Apple', 'Spotify', 'Twitter', 'IBM', 'Google', 'Uber', 'Amazon', 'Oracle'}\n",
      "After discrfading an element not present in set: {'Microsoft', 'Facebook', 'Apple', 'Spotify', 'Twitter', 'IBM', 'Google', 'Uber', 'Amazon', 'Oracle'}\n",
      "Joining A and B: {19, 20, 22, 24, 25, 26, 27, 28}\n",
      "A intersection B: {19, 20, 22, 24, 25, 26}\n",
      "Is A subset of B: True\n",
      "Are A and B disjoint sets: False\n",
      "Joining A with B: {19, 20, 22, 24, 25, 26, 27, 28}\n",
      "Joining A with B: {19, 20, 22, 24, 25, 26, 27, 28}\n",
      " symmetric difference between A and B: {27, 28}\n",
      "converted age list to a set: {19, 22, 24, 25, 26}\n",
      "comparing the length of the list and the set: 3\n"
     ]
    }
   ],
   "source": [
    "it_companies = {'Facebook', 'Google', 'Microsoft', 'Apple', 'IBM', 'Oracle', 'Amazon'}\n",
    "A = {19, 22, 24, 20, 25, 26}\n",
    "B = {19, 22, 20, 25, 26, 24, 28, 27}\n",
    "age = [22, 19, 24, 25, 26, 24, 25, 24]\n",
    "count_it = len(it_companies) #caluclating the length of it_companies set\n",
    "print(\"Number of it_companies are:\",count_it) \n",
    "it_companies.add('Twitter') #adding twitter to it_companies set\n",
    "print(\"Added twitter company:\",it_companies)\n",
    "it_companies.update(['Uber', 'Netflix', 'Spotify']) #adding multiple companies to it_companies set\n",
    "print(\"Added multiple companies:\",it_companies)\n",
    "it_companies.remove('Netflix') #removing one company from it_companies set\n",
    "print(\"After removing Netflix compnay:\",it_companies)\n",
    "it_companies.discard('Salesforce') #discarding an element not present in it_companies set\n",
    "print(\"After discrfading an element not present in set:\",it_companies)      \n",
    "#remove() method will raise an error if the specified item doesnot exsist, whereas the discard() won't show error.\n",
    "print(\"Joining A and B:\",A.union(B))\n",
    "print(\"A intersection B:\",A.intersection(B))\n",
    "print(\"Is A subset of B:\",A.issubset(B))\n",
    "print(\"Are A and B disjoint sets:\",A.isdisjoint(B))\n",
    "C = A.union(B)\n",
    "print(\"Joining A with B:\",C)\n",
    "D = B.union(A)\n",
    "print(\"Joining A with B:\",D)\n",
    "print(\" symmetric difference between A and B:\",A.symmetric_difference(B))\n",
    "#Deleting the sets completely\n",
    "del A\n",
    "del B\n",
    "del it_companies\n",
    "age_set = set(age) #converting age list into a set\n",
    "print(\"converted age list to a set:\",age_set)\n",
    "print(\"comparing the length of the list and the set:\",len(age)-len(age_set))\n"
   ]
  },
  {
   "cell_type": "code",
   "execution_count": 33,
   "id": "cda3cf25",
   "metadata": {},
   "outputs": [
    {
     "name": "stdout",
     "output_type": "stream",
     "text": [
      "sisters are: ('Keerthy', 'Sita', 'Priya')\n",
      "brothers are: ('Venu', 'Sanjay', 'Vivek')\n",
      "siblings are: ('Keerthy', 'Sita', 'Priya', 'Venu', 'Sanjay', 'Vivek')\n",
      "Number of siblings: 6\n",
      "Family members: ('Keerthy', 'Sita', 'Priya', 'Venu', 'Sanjay', 'Vivek', 'Subba Rao', 'Suneetha')\n"
     ]
    }
   ],
   "source": [
    "sisters = (\"Keerthy\", \"Sita\", \"Priya\") # creating a sisters tuple and appending values\n",
    "print(\"sisters are:\",sisters)\n",
    "brothers = (\"Venu\", \"Sanjay\", \"Vivek\") #creating a brothers tuple and appending values\n",
    "print(\"brothers are:\",brothers)\n",
    "siblings = sisters + brothers #concactinating sisters and brothers tuples into a single tuple named as siblings\n",
    "print(\"siblings are:\",siblings)\n",
    "num_siblings = len(siblings)#caluclating length of tuple and assiging it to a variable\n",
    "print(\"Number of siblings:\", num_siblings)\n",
    "family_members = siblings + (\"Subba Rao\", \"Suneetha\") #modifying siblings tuple by adding values and adding it to family members\n",
    "print(\"Family members:\",family_members)"
   ]
  },
  {
   "cell_type": "code",
   "execution_count": 64,
   "id": "75b91694",
   "metadata": {},
   "outputs": [
    {
     "name": "stdout",
     "output_type": "stream",
     "text": [
      "Empty dictionary: {}\n",
      "Dog dictionary: {'name': 'puppy', 'color': 'black', 'breed': 'german shepard', 'legs': 4, 'age': 10}\n",
      "length of dictionary: 9\n",
      "skills: ['c']\n",
      "datatype: <class 'list'>\n",
      "skills: ['c', 'mysql', 'javascript']\n",
      "keys as a list: ['first_name', 'last_name', 'gender', 'age', 'marital status', 'skills', 'country', 'city', 'address']\n",
      "values as a list: ['Tarun', 'Garimella', 'Male', '22', 'Single', ['c', 'mysql', 'javascript'], 'India', 'Vijayawada', 'Ramavarappadu,vijayawada,India']\n"
     ]
    }
   ],
   "source": [
    "#Creating a empty dictionary called dog\n",
    "dog = {}\n",
    "print(\"Empty dictionary:\",dog) \n",
    "# Adding keys and values into the dictinoary\n",
    "dog['name'] = \"puppy\"\n",
    "dog['color'] = \"black\"\n",
    "dog['breed'] = \"german shepard\"\n",
    "dog['legs'] = 4\n",
    "dog['age'] = 10\n",
    "print(\"Dog dictionary:\",dog)\n",
    "#creating a student dictionary and adding keys,values into dictionary\n",
    "student={'first_name':'Tarun','last_name':'Garimella','gender':'Male','age':'22','marital status':'Single','skills':['c'],'country':'India','city':'Vijayawada','address':'Ramavarappadu,vijayawada,India'}\n",
    "#length of student dictionary\n",
    "print(\"length of dictionary:\",len(student))\n",
    "#values for skills key\n",
    "print(\"skills:\",student[\"skills\"])\n",
    "#datatype of skills\n",
    "print(\"datatype:\",type(student[\"skills\"]))\n",
    "#adding more values to skills key\n",
    "student[\"skills\"].append('mysql')\n",
    "student[\"skills\"].append('javascript')\n",
    "print(\"skills:\",student[\"skills\"])\n",
    "#student dictionary key values as a list\n",
    "list1 = list(student.keys())\n",
    "print(\"keys as a list:\",list1)\n",
    "#student dictionary values as a list\n",
    "list2=list(student.values())\n",
    "print(\"values as a list:\",list2)\n",
    "\n",
    "\n"
   ]
  },
  {
   "cell_type": "code",
   "execution_count": null,
   "id": "5ce2f7bc",
   "metadata": {},
   "outputs": [],
   "source": []
  },
  {
   "cell_type": "code",
   "execution_count": 20,
   "id": "669d5060",
   "metadata": {},
   "outputs": [
    {
     "name": "stdout",
     "output_type": "stream",
     "text": [
      "sorted ages: [19, 19, 20, 22, 24, 24, 24, 25, 25, 26]\n",
      "Minimum age: 19\n",
      "Maximum age: 26\n",
      "Ages after adding min and max ages: [19, 19, 20, 22, 24, 24, 24, 25, 25, 26, 19, 26]\n",
      "median of ages: 24.0\n",
      "average of ages: 22.75\n",
      "range of the ages: 7\n"
     ]
    }
   ],
   "source": [
    "ages=[19, 22, 19, 24, 20, 25, 26, 24, 25, 24] #defining a list containing ages of 10 students\n",
    "ages.sort() #sorting the list of ages \n",
    "print(\"sorted ages:\",ages)  \n",
    "miniage=min(ages) #assigning a varibale miniage to store the minimum value returned by min() function\n",
    "print(\"Minimum age:\",miniage)\n",
    "maxage=max(ages) #assigning a varibale to store maxage the minimum value returned by max() function\n",
    "print(\"Maximum age:\",maxage)\n",
    "ages.append(miniage) #append the minimum value stored in miniage variable to list \n",
    "ages.append(maxage)  #append the maximum value stored in maxage variable to list\n",
    "print(\"Ages after adding min and max ages:\",ages)\n",
    "n=len(ages)         #caluclating the length of list and assigning it to a variable n\n",
    "if n % 2 == 0:      # if remainder is 0 it is an even number\n",
    "    median1 = ages[n//2] \n",
    "    median2 = ages[n//2 - 1]\n",
    "    median = (median1 + median2)/2 #median is average of middle and secondle middle most elements in list from left to right\n",
    "    print(\"median of ages:\",median)\n",
    "else:\n",
    "    median = ages[n//2] \n",
    "    print(\"median of ages:\",median)\n",
    "sumofages=sum(ages) #caluclating the sum of values in list using sum() function and assigining it to variable sumofages\n",
    "average=sumofages/n #caluclating avergae \n",
    "print(\"average of ages:\",average)\n",
    "rangeofages=maxage-miniage #range is the difference between maximum and minimum\n",
    "print(\"range of the ages:\",rangeofages)"
   ]
  },
  {
   "cell_type": "code",
   "execution_count": null,
   "id": "9e034dd0",
   "metadata": {},
   "outputs": [],
   "source": []
  },
  {
   "cell_type": "code",
   "execution_count": null,
   "id": "4f8129d2",
   "metadata": {},
   "outputs": [],
   "source": []
  },
  {
   "cell_type": "code",
   "execution_count": 63,
   "id": "68788ce1",
   "metadata": {},
   "outputs": [
    {
     "ename": "ValueError",
     "evalue": "empty separator",
     "output_type": "error",
     "traceback": [
      "\u001b[1;31m---------------------------------------------------------------------------\u001b[0m",
      "\u001b[1;31mValueError\u001b[0m                                Traceback (most recent call last)",
      "\u001b[1;32m~\\AppData\\Local\\Temp/ipykernel_20840/632203048.py\u001b[0m in \u001b[0;36m<module>\u001b[1;34m\u001b[0m\n\u001b[0;32m      1\u001b[0m \u001b[0mmsg\u001b[0m\u001b[1;33m=\u001b[0m\u001b[1;34m\"I am a teacher and I love to inspire and teach people\"\u001b[0m\u001b[1;33m\u001b[0m\u001b[1;33m\u001b[0m\u001b[0m\n\u001b[1;32m----> 2\u001b[1;33m \u001b[0mlistl\u001b[0m\u001b[1;33m=\u001b[0m\u001b[1;33m(\u001b[0m\u001b[0mmsg\u001b[0m\u001b[1;33m.\u001b[0m\u001b[0msplit\u001b[0m\u001b[1;33m(\u001b[0m\u001b[1;34m\"\"\u001b[0m\u001b[1;33m)\u001b[0m\u001b[1;33m)\u001b[0m \u001b[1;31m#split() splits each word in a sentence adn stores them in a list\u001b[0m\u001b[1;33m\u001b[0m\u001b[1;33m\u001b[0m\u001b[0m\n\u001b[0m\u001b[0;32m      3\u001b[0m \u001b[0mprint\u001b[0m\u001b[1;33m(\u001b[0m\u001b[1;34m\"no of unique words are\"\u001b[0m\u001b[1;33m,\u001b[0m\u001b[0mlen\u001b[0m\u001b[1;33m(\u001b[0m\u001b[0mset\u001b[0m\u001b[1;33m(\u001b[0m\u001b[0mlistl\u001b[0m\u001b[1;33m)\u001b[0m\u001b[1;33m)\u001b[0m\u001b[1;33m)\u001b[0m \u001b[1;31m# list will be converted into a set() because set don't contain duplicate values and printing number of unique words from the given sentence using length functio\u001b[0m\u001b[1;33m\u001b[0m\u001b[1;33m\u001b[0m\u001b[0m\n",
      "\u001b[1;31mValueError\u001b[0m: empty separator"
     ]
    }
   ],
   "source": [
    " \n",
    "    "
   ]
  },
  {
   "cell_type": "code",
   "execution_count": null,
   "id": "4e507607",
   "metadata": {},
   "outputs": [],
   "source": []
  },
  {
   "cell_type": "code",
   "execution_count": null,
   "id": "dc127e16",
   "metadata": {},
   "outputs": [],
   "source": []
  },
  {
   "cell_type": "code",
   "execution_count": null,
   "id": "d012c1b6",
   "metadata": {},
   "outputs": [],
   "source": []
  }
 ],
 "metadata": {
  "kernelspec": {
   "display_name": "Python 3 (ipykernel)",
   "language": "python",
   "name": "python3"
  },
  "language_info": {
   "codemirror_mode": {
    "name": "ipython",
    "version": 3
   },
   "file_extension": ".py",
   "mimetype": "text/x-python",
   "name": "python",
   "nbconvert_exporter": "python",
   "pygments_lexer": "ipython3",
   "version": "3.9.7"
  }
 },
 "nbformat": 4,
 "nbformat_minor": 5
}
