{
 "cells": [
  {
   "cell_type": "code",
   "execution_count": 7,
   "id": "82767f6c",
   "metadata": {},
   "outputs": [
    {
     "name": "stdout",
     "output_type": "stream",
     "text": [
      "Original random vector:\n",
      " [16 17 14  6 14 19 16  3 11 11  9  8 11 16 10]\n",
      "\n",
      "Reshaped 3x5 array:\n",
      " [[16 17 14  6 14]\n",
      " [19 16  3 11 11]\n",
      " [ 9  8 11 16 10]]\n",
      "\n",
      "Shape of array:\n",
      " (3, 5)\n",
      "\n",
      "Updated 3x5 array with max values replaced by 0:\n",
      " [[ 0  0 14  0 14]\n",
      " [19 16  3 11 11]\n",
      " [ 9  8 11 16 10]]\n"
     ]
    }
   ],
   "source": [
    "import numpy as np\n",
    "\n",
    "# Create a random vector of size 15 with integers in the range 1-20\n",
    "random_vector = np.random.randint(low=1, high=21, size=15)\n",
    "\n",
    "# Reshape the vector into a 3x5 array\n",
    "array_3by5 = random_vector.reshape((3, 5))\n",
    "\n",
    "print(\"Original random vector:\\n\", random_vector)\n",
    "print(\"\\nReshaped 3x5 array:\\n\", array_3by5)\n",
    "\n",
    "# Print the shape of the array\n",
    "print(\"\\nShape of array:\\n\", array_3by5.shape)\n",
    "\n",
    "# Replace the maximum value in each row with 0\n",
    "max_indices = np.argmax(array_3by5, axis=1)  # Get indices of maximum values in each row\n",
    "np.put(array_3by5, max_indices, 0)  # Replace maximum values with 0\n",
    "\n",
    "print(\"\\nUpdated 3x5 array with max values replaced by 0:\\n\", array_3by5)\n"
   ]
  },
  {
   "cell_type": "code",
   "execution_count": 10,
   "id": "787372d6",
   "metadata": {},
   "outputs": [
    {
     "name": "stdout",
     "output_type": "stream",
     "text": [
      "Array:\n",
      " [[12 11  9]\n",
      " [ 7  5  8]\n",
      " [ 4  2  3]\n",
      " [ 1  6 10]]\n",
      "\n",
      "Array shape:\n",
      " (4, 3)\n",
      "\n",
      "Array type:\n",
      " <class 'numpy.ndarray'>\n",
      "\n",
      "Array data type:\n",
      " int32\n"
     ]
    }
   ],
   "source": [
    "import numpy as np\n",
    "\n",
    "# Create 2D array of size 4 x 3 with 4-byte integer elements\n",
    "arr = np.array([[12, 11, 9], [7, 5, 8], [4, 2, 3], [1, 6, 10]], dtype=np.int32)\n",
    "\n",
    "# Print array shape, type, and data type\n",
    "print(\"Array:\\n\", arr)\n",
    "print(\"\\nArray shape:\\n\", arr.shape)\n",
    "print(\"\\nArray type:\\n\", type(arr))\n",
    "print(\"\\nArray data type:\\n\", arr.dtype)\n"
   ]
  },
  {
   "cell_type": "code",
   "execution_count": 12,
   "id": "8f383272",
   "metadata": {},
   "outputs": [
    {
     "name": "stdout",
     "output_type": "stream",
     "text": [
      "Eigenvalues:\n",
      " [2. 1.]\n",
      "\n",
      "Eigenvectors:\n",
      " [[0.89442719 0.70710678]\n",
      " [0.4472136  0.70710678]]\n"
     ]
    }
   ],
   "source": [
    "import numpy as np\n",
    "\n",
    "# Create the square array\n",
    "arr = np.array([[3, -2], [1, 0]])\n",
    "\n",
    "# Compute eigenvalues and eigenvectors\n",
    "eigenvalues, eigenvectors = np.linalg.eig(arr)\n",
    "\n",
    "# Print the results\n",
    "print(\"Eigenvalues:\\n\", eigenvalues)\n",
    "print(\"\\nEigenvectors:\\n\", eigenvectors)\n"
   ]
  },
  {
   "cell_type": "code",
   "execution_count": 14,
   "id": "38cb6fee",
   "metadata": {},
   "outputs": [
    {
     "name": "stdout",
     "output_type": "stream",
     "text": [
      "\n",
      "Sum of diagonal elements:\n",
      " 4\n"
     ]
    }
   ],
   "source": [
    "import numpy as np\n",
    "\n",
    "arr = np.array([[0, 1, 2], [3, 4, 5]])\n",
    "diagonal_sum = np.trace(arr)\n",
    "print(\"\\nSum of diagonal elements:\\n\", diagonal_sum)\n"
   ]
  },
  {
   "cell_type": "code",
   "execution_count": 19,
   "id": "ebfeb800",
   "metadata": {},
   "outputs": [
    {
     "name": "stdout",
     "output_type": "stream",
     "text": [
      "\n",
      "Reshaped to 3x2:\n",
      "[[1 2]\n",
      " [3 4]\n",
      " [5 6]]\n",
      "\n",
      "Reshaped to 2x3:\n",
      "[[1 2 3]\n",
      " [4 5 6]]\n"
     ]
    }
   ],
   "source": [
    "import numpy as np\n",
    "\n",
    "arr = np.array([[1, 2], [3, 4], [5, 6]])\n",
    "\n",
    "#reshape matrix to 3x2\n",
    "arr = arr.reshape(3, 2)\n",
    "print(\"\\nReshaped to 3x2:\")\n",
    "print(arr)\n",
    "\n",
    "#reshape matrix to 2x3\n",
    "arr = arr.reshape(2, 3)\n",
    "print(\"\\nReshaped to 2x3:\")\n",
    "print(arr)\n",
    "\n"
   ]
  },
  {
   "cell_type": "code",
   "execution_count": 22,
   "id": "c8529175",
   "metadata": {},
   "outputs": [
    {
     "data": {
      "image/png": "[encoded data removed]",
      "text/plain": [
       "<Figure size 432x288 with 1 Axes>"
      ]
     },
     "metadata": {},
     "output_type": "display_data"
    }
   ],
   "source": [
    "import matplotlib.pyplot as plt\n",
    "\n",
    "# Sample data\n",
    "languages = ['Java', 'Python', 'PHP', 'JavaScript', 'C#', 'C++']\n",
    "popularity = [22.2, 17.6, 8.8, 8, 7.7, 6.7]\n",
    "\n",
    "#explode the 1st slice\n",
    "exp = [0.1, 0, 0, 0, 0, 0]\n",
    "\n",
    "#plot\n",
    "plt.pie(popularity, labels = languages, explode = exp, shadow = True, autopct='%1.1f%%', startangle = 135)\n",
    "plt.show()\n"
   ]
  },
  {
   "cell_type": "code",
   "execution_count": null,
   "id": "e793cde5",
   "metadata": {},
   "outputs": [],
   "source": []
  }
 ],
 "metadata": {
  "kernelspec": {
   "display_name": "Python 3 (ipykernel)",
   "language": "python",
   "name": "python3"
  },
  "language_info": {
   "codemirror_mode": {
    "name": "ipython",
    "version": 3
   },
   "file_extension": ".py",
   "mimetype": "text/x-python",
   "name": "python",
   "nbconvert_exporter": "python",
   "pygments_lexer": "ipython3",
   "version": "3.9.7"
  }
 },
 "nbformat": 4,
 "nbformat_minor": 5
}
