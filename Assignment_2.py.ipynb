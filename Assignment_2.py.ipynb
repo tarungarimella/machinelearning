{
 "cells": [
  {
   "cell_type": "code",
   "execution_count": 26,
   "id": "19427eb7",
   "metadata": {},
   "outputs": [
    {
     "name": "stdout",
     "output_type": "stream",
     "text": [
      "* \n",
      "* * \n",
      "* * * \n",
      "* * * * \n",
      "* * * * * \n",
      "* * * * \n",
      "* * * \n",
      "* * \n",
      "* \n"
     ]
    }
   ],
   "source": [
    "for i in range(1, 6): #loop runs from 1 to 6\n",
    "    print(\"* \" * i) #prints \"*\" equal to current value of i\n",
    "for i in range(4, 0, -1): #loop runs from 4 to 0 with a decrement of -1,\n",
    "    print(\"* \" * i)  "
   ]
  },
  {
   "cell_type": "code",
   "execution_count": 31,
   "id": "74436465",
   "metadata": {},
   "outputs": [
    {
     "name": "stdout",
     "output_type": "stream",
     "text": [
      "[20, 40, 60, 80, 100]\n"
     ]
    }
   ],
   "source": [
    "my_list = [10, 20, 30, 40, 50, 60, 70, 80, 90, 100] #create a list called my_list with values\n",
    "print(my_list[1:len(my_list):2]) #my_list slicing starting from odd index one and print elements in the consecutive indexes which are odd"
   ]
  },
  {
   "cell_type": "code",
   "execution_count": 32,
   "id": "2c4dfd98",
   "metadata": {},
   "outputs": [
    {
     "name": "stdout",
     "output_type": "stream",
     "text": [
      "[23, 'Python', 23.98]\n",
      "[<class 'list'>, <class 'list'>, <class 'list'>]\n"
     ]
    }
   ],
   "source": [
    "x = [23, 'Python', 23.98] #create a list with different datatypes\n",
    "datatype = [] #create a empty list\n",
    "for elemnts in x:\n",
    "    datatype.append(type(datatype)) #append the datatype of elements in x list into datatype list using type() function\n",
    "print(x) \n",
    "print(datatype)"
   ]
  },
  {
   "cell_type": "code",
   "execution_count": 33,
   "id": "ae8a7566",
   "metadata": {},
   "outputs": [
    {
     "name": "stdout",
     "output_type": "stream",
     "text": [
      "[1, 2, 3, 4, 5]\n"
     ]
    }
   ],
   "source": [
    "def unique_list(num): \n",
    "    unique = []      #create a empty list unique\n",
    "    for element in num: #looping through each element in list\n",
    "        if element not in unique: \n",
    "            unique.append(element)\n",
    "    return unique\n",
    "\n",
    "print(unique_list([1,2,3,3,3,3,4,5]))"
   ]
  },
  {
   "cell_type": "code",
   "execution_count": 35,
   "id": "45402cd0",
   "metadata": {},
   "outputs": [
    {
     "name": "stdout",
     "output_type": "stream",
     "text": [
      "No. of Upper-case characters: 3\n",
      "No. of Lower-case Characters: 12\n"
     ]
    }
   ],
   "source": [
    "def letter_case_count(s):\n",
    "    upper_count = 0 #intialize upper_count variable with 0\n",
    "    lower_count = 0 #intialize lower_count variable with 0\n",
    "    for char in s: #iterate over each character in string\n",
    "        if char.isupper(): #isupper() checks the upper case characters in string\n",
    "            upper_count += 1 \n",
    "        elif char.islower(): #islower() checks the lower case characters in string\n",
    "            lower_count += 1\n",
    "    return f\"No. of Upper-case characters: {upper_count}\\nNo. of Lower-case Characters: {lower_count}\" # returns the formatted string that indicate number of upper and lower characters\n",
    "\n",
    "input_string = 'The quick Brow Fox'\n",
    "print(letter_case_count(input_string))"
   ]
  },
  {
   "cell_type": "code",
   "execution_count": null,
   "id": "19a6a14e",
   "metadata": {},
   "outputs": [],
   "source": []
  }
 ],
 "metadata": {
  "kernelspec": {
   "display_name": "Python 3 (ipykernel)",
   "language": "python",
   "name": "python3"
  },
  "language_info": {
   "codemirror_mode": {
    "name": "ipython",
    "version": 3
   },
   "file_extension": ".py",
   "mimetype": "text/x-python",
   "name": "python",
   "nbconvert_exporter": "python",
   "pygments_lexer": "ipython3",
   "version": "3.9.7"
  }
 },
 "nbformat": 4,
 "nbformat_minor": 5
}
